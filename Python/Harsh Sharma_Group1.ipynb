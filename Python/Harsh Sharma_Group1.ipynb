{
 "cells": [
  {
   "cell_type": "markdown",
   "id": "76fc6aa3-6501-467f-9685-79bbe33d8eff",
   "metadata": {},
   "source": [
    "### 1. Create this dictionary:\n",
    "**{0: 0, 1: 1, 2: 8, 3: 27, 4: 64}\n",
    " using a dictionary comprehension.**"
   ]
  },
  {
   "cell_type": "code",
   "execution_count": 6,
   "id": "f4b47196",
   "metadata": {},
   "outputs": [
    {
     "name": "stdout",
     "output_type": "stream",
     "text": [
      "{0: 0, 1: 1, 2: 8, 3: 27, 4: 64}\n"
     ]
    }
   ],
   "source": [
    "dict_1 = {}\n",
    "for i in range(5):\n",
    "    dict_1[i]=i**3\n",
    "    \n",
    "print(dict_1)\n"
   ]
  },
  {
   "cell_type": "markdown",
   "id": "4d499c8b-9a50-40c8-9e76-d5cc6bca4635",
   "metadata": {},
   "source": [
    "### 2. if the length of a word is even print \"even!\""
   ]
  },
  {
   "cell_type": "code",
   "execution_count": 7,
   "id": "2450d4df-7361-408e-a864-06143b116a5f",
   "metadata": {},
   "outputs": [
    {
     "name": "stdout",
     "output_type": "stream",
     "text": [
      "['odd', 'odd', 'even', 'even', 'even', 'even', 'even', 'odd', 'even', 'even', 'even', 'even', 'odd']\n"
     ]
    }
   ],
   "source": [
    "st = 'Print every word in this sentence that has an even number of letters'\n",
    "newstr=st.split(' ')\n",
    "ans=[]\n",
    "for i in range (len(newstr)):\n",
    "    if len(newstr[i])%2==0:\n",
    "        ans.append(\"even\")\n",
    "    else:\n",
    "        ans.append(\"odd\")\n",
    "print(ans)\n",
    "        \n"
   ]
  },
  {
   "cell_type": "markdown",
   "id": "bc19e049-18b9-48c3-b321-40b108c4f95e",
   "metadata": {},
   "source": [
    "### 3. Generate Password: 17 characters , minimum 1 Uppercase, 1 lowercase, 1 digits and 2 minimun special characters"
   ]
  },
  {
   "cell_type": "code",
   "execution_count": 10,
   "id": "2a433161",
   "metadata": {},
   "outputs": [
    {
     "data": {
      "text/plain": [
       "'!0d>c945b=\"yGR|61'"
      ]
     },
     "execution_count": 10,
     "metadata": {},
     "output_type": "execute_result"
    }
   ],
   "source": [
    "import random\n",
    "import string\n",
    "\n",
    "def gp():\n",
    "\n",
    "    ucase = string.ascii_uppercase\n",
    "    lcase = string.ascii_lowercase\n",
    "    digits = string.digits\n",
    "    special = string.punctuation\n",
    "    \n",
    "    \n",
    "    uchars = random.sample(ucase, 2)   # This function takes the list and number of char to get\n",
    "    lchars = random.sample(lcase, 4)\n",
    "    dchars = random.sample(digits, 6)\n",
    "    schars = random.sample(special, 5)\n",
    "\n",
    "    password_chars = uchars + lchars + dchars +schars\n",
    "    random.shuffle(password_chars)\n",
    "    # Convert the characters to a string and return the password\n",
    "    password = ''.join(password_chars)\n",
    "    return password\n",
    "gp()"
   ]
  },
  {
   "cell_type": "markdown",
   "id": "48cca1de-e507-4920-9caf-0b58e1d27f42",
   "metadata": {},
   "source": [
    "### 4. you are given a list which is [6, 15, 5, 3, 5, 14, 3, 202, 34, 235, 555, 6]. You have to sort it such that the seventh element is greatest of all, second element is greater than last element and second last element is not greater than sum of 8 and sixth element"
   ]
  },
  {
   "cell_type": "code",
   "execution_count": 22,
   "id": "f873f8b1",
   "metadata": {},
   "outputs": [
    {
     "name": "stdout",
     "output_type": "stream",
     "text": [
      "[6, 235, 202, 34, 15, 14, 555, 6, 5, 5, 3, 3]\n"
     ]
    }
   ],
   "source": [
    "lst = [6, 15, 5, 3, 5, 14, 3, 202, 34, 235, 555, 6]\n",
    "\n",
    "# Sort the list in descending order\n",
    "lst = sorted(lst, reverse=True)\n",
    "\n",
    "# Swap the 0th element with the 6th element to make the 7th element the greatest\n",
    "lst[0], lst[6] = lst[6], lst[0]\n",
    "\n",
    "# Find the sum of the 8th and 6th element\n",
    "sum_8th_6th = lst[7] + lst[5]\n",
    "\n",
    "# If the 2nd last element is greater than or equal to the sum, swap them\n",
    "if lst[-2] >= sum_8th_6th:\n",
    "    lst[-2], lst[7] = lst[7], lst[-2]\n",
    "\n",
    "\n",
    "\n",
    "print(lst)\n"
   ]
  },
  {
   "cell_type": "markdown",
   "id": "4cc065eb-e5c5-40ff-9d82-2b6f8f2f43a6",
   "metadata": {},
   "source": [
    "### 5. Write a program that prints the integers from 1 to 100. But for multiples of three print \"Fizz\" instead of the number, and for the multiples of five print \"Buzz\". For numbers which are multiples of both three and five print \"FizzBuzz\"."
   ]
  },
  {
   "cell_type": "code",
   "execution_count": 2,
   "id": "803aa844",
   "metadata": {},
   "outputs": [
    {
     "name": "stdout",
     "output_type": "stream",
     "text": [
      "1\n",
      "2\n",
      "Fizz\n",
      "4\n",
      "Buzz\n",
      "Fizz\n",
      "7\n",
      "8\n",
      "Fizz\n",
      "Buzz\n",
      "11\n",
      "Fizz\n",
      "13\n",
      "14\n",
      "FizzBuzz\n",
      "16\n",
      "17\n",
      "Fizz\n",
      "19\n",
      "Buzz\n",
      "Fizz\n",
      "22\n",
      "23\n",
      "Fizz\n",
      "Buzz\n",
      "26\n",
      "Fizz\n",
      "28\n",
      "29\n",
      "FizzBuzz\n",
      "31\n",
      "32\n",
      "Fizz\n",
      "34\n",
      "Buzz\n",
      "Fizz\n",
      "37\n",
      "38\n",
      "Fizz\n",
      "Buzz\n",
      "41\n",
      "Fizz\n",
      "43\n",
      "44\n",
      "FizzBuzz\n",
      "46\n",
      "47\n",
      "Fizz\n",
      "49\n",
      "Buzz\n",
      "Fizz\n",
      "52\n",
      "53\n",
      "Fizz\n",
      "Buzz\n",
      "56\n",
      "Fizz\n",
      "58\n",
      "59\n",
      "FizzBuzz\n",
      "61\n",
      "62\n",
      "Fizz\n",
      "64\n",
      "Buzz\n",
      "Fizz\n",
      "67\n",
      "68\n",
      "Fizz\n",
      "Buzz\n",
      "71\n",
      "Fizz\n",
      "73\n",
      "74\n",
      "FizzBuzz\n",
      "76\n",
      "77\n",
      "Fizz\n",
      "79\n",
      "Buzz\n",
      "Fizz\n",
      "82\n",
      "83\n",
      "Fizz\n",
      "Buzz\n",
      "86\n",
      "Fizz\n",
      "88\n",
      "89\n",
      "FizzBuzz\n",
      "91\n",
      "92\n",
      "Fizz\n",
      "94\n",
      "Buzz\n",
      "Fizz\n",
      "97\n",
      "98\n",
      "Fizz\n",
      "Buzz\n"
     ]
    }
   ],
   "source": [
    "def fizzbuzz():\n",
    "    for i in range(1,101):\n",
    "        if i%3==0 and i%5!=0:\n",
    "            print(\"Fizz\")\n",
    "        elif i%5==0 and i%3!=0:\n",
    "            print(\"Buzz\")\n",
    "        elif i%3==0 and i%5==0:\n",
    "            print(\"FizzBuzz\")\n",
    "        else:\n",
    "            print(i)\n",
    "fizzbuzz()"
   ]
  },
  {
   "cell_type": "markdown",
   "id": "42943a70-2349-4290-ac41-a5c1a5cc2ff0",
   "metadata": {},
   "source": [
    "### 6. Write a program that accepts a sentence and calculate the number of letters and digits. Suppose the following input is supplied to the program."
   ]
  },
  {
   "cell_type": "code",
   "execution_count": 10,
   "id": "5a1e99e2",
   "metadata": {},
   "outputs": [
    {
     "name": "stdout",
     "output_type": "stream",
     "text": [
      "Letters: 18\n",
      "Digits: 4\n"
     ]
    }
   ],
   "source": [
    "str = \"This is a 30 given string 20\"\n",
    "digit=0\n",
    "letter=0\n",
    "for ch in str:\n",
    "    \n",
    "    if ch.isdigit():\n",
    "        digit=digit+1\n",
    "    elif ch.isalpha():\n",
    "        letter=letter+1\n",
    "    else:\n",
    "        pass\n",
    "print(\"Letters:\", letter)\n",
    "print(\"Digits:\", digit)"
   ]
  },
  {
   "cell_type": "markdown",
   "id": "ee9e1ad1-842c-4fff-9ee2-55e24eb24701",
   "metadata": {},
   "source": [
    "### 7. Exercise: Write a program which takes 2 digits, X,Y as input and generates a 2-dimensional array. The element value in the i-th row and j-th column of the array should be i*j\n",
    "\n",
    "[[0, 0, 0, 0, 0],\n",
    " [0, 1, 2, 3, 4],\n",
    " [0, 2, 4, 6, 8]\n",
    " ..............]]"
   ]
  },
  {
   "cell_type": "code",
   "execution_count": 13,
   "id": "58117187",
   "metadata": {},
   "outputs": [
    {
     "data": {
      "text/plain": [
       "array([[ 0,  0,  0,  0,  0],\n",
       "       [ 0,  1,  2,  3,  4],\n",
       "       [ 0,  2,  4,  6,  8],\n",
       "       [ 0,  3,  6,  9, 12],\n",
       "       [ 0,  4,  8, 12, 16]])"
      ]
     },
     "execution_count": 13,
     "metadata": {},
     "output_type": "execute_result"
    }
   ],
   "source": [
    "import numpy as np\n",
    "m=np.arange(0,25).reshape(5,5)\n",
    "for i in range(len(m[0])):\n",
    "    for j in range(len(m[1])):\n",
    "        m[i][j]=i*j\n",
    "        \n",
    "m"
   ]
  },
  {
   "cell_type": "markdown",
   "id": "f1efcf4a-bc10-4189-8228-3270b0cf1483",
   "metadata": {},
   "source": [
    "## 8. For this challenge,\n",
    "Create a bank account class that has two attributes:\n",
    "\n",
    "owner,balance and two methods:\n",
    "\n",
    "deposit,withdraw As an added requirement, withdrawals may not exceed the available balance.\n",
    "\n",
    "Instantiate your class, make several deposits and withdrawals, and test to make sure the account can't be overdrawn."
   ]
  },
  {
   "cell_type": "code",
   "execution_count": 38,
   "id": "fb588bb6",
   "metadata": {},
   "outputs": [],
   "source": [
    "class BankAccount:\n",
    "    def __init__(self,owner,balance):\n",
    "        self.owner=owner\n",
    "        self.balance=balance\n",
    "    def deposit(self,amount):\n",
    "        self.balance+=amount\n",
    "        print(f\"Deposit of {amount} accepted. New balance is {self.balance}\")\n",
    "    def withdraw(self,amount):\n",
    "        if amount>self.balance:\n",
    "            print(f\"Insufficient funds. Current balance is {self.balance}\")\n",
    "        else:\n",
    "            self.balance=self.balance-amount\n",
    "            print(f\"Withdrawal of {amount} accepted. New balance is {self.balance}\")\n",
    "            \n",
    "        \n",
    "\n",
    "    "
   ]
  },
  {
   "cell_type": "code",
   "execution_count": 39,
   "id": "da0f097d",
   "metadata": {},
   "outputs": [
    {
     "name": "stdout",
     "output_type": "stream",
     "text": [
      "Deposit of 500 accepted. New balance is 1500\n",
      "Deposit of 1000 accepted. New balance is 2500\n",
      "Withdrawal of 200 accepted. New balance is 2300\n",
      "Withdrawal of 1500 accepted. New balance is 800\n",
      "Insufficient funds. Current balance is 800\n"
     ]
    }
   ],
   "source": [
    "# Create a new bank account with an initial balance of 1000\n",
    "account = BankAccount(\"Harsh\", 1000)\n",
    "\n",
    "# Make some deposits\n",
    "account.deposit(500)\n",
    "account.deposit(1000)\n",
    "\n",
    "# Make some withdrawals\n",
    "account.withdraw(200)\n",
    "account.withdraw(1500)\n",
    "\n",
    "# Try to withdraw more than the available balance\n",
    "account.withdraw(2000)"
   ]
  },
  {
   "cell_type": "code",
   "execution_count": null,
   "id": "8c37195b",
   "metadata": {},
   "outputs": [],
   "source": []
  }
 ],
 "metadata": {
  "kernelspec": {
   "display_name": "Python 3 (ipykernel)",
   "language": "python",
   "name": "python3"
  },
  "language_info": {
   "codemirror_mode": {
    "name": "ipython",
    "version": 3
   },
   "file_extension": ".py",
   "mimetype": "text/x-python",
   "name": "python",
   "nbconvert_exporter": "python",
   "pygments_lexer": "ipython3",
   "version": "3.9.13"
  }
 },
 "nbformat": 4,
 "nbformat_minor": 5
}
