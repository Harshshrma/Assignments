{
 "cells": [
  {
   "cell_type": "markdown",
   "id": "f4b5ca18",
   "metadata": {},
   "source": [
    "#### 1.Create a python program to find duplicate files by content. User will input path and it will scan all directories, sub-directories to find all duplicates files.\n",
    "* Delete the found duplicate file.\n",
    "                 * [Hint: use hashlib]\n",
    " "
   ]
  },
  {
   "cell_type": "code",
   "execution_count": null,
   "id": "5e4a8b5e",
   "metadata": {},
   "outputs": [],
   "source": [
    "import os\n",
    "path_p = input(\"Enter your path :\")\n",
    "files_list = os.listdir(path = path_p)\n",
    "files_list"
   ]
  },
  {
   "cell_type": "code",
   "execution_count": null,
   "id": "e713754d",
   "metadata": {},
   "outputs": [],
   "source": [
    "import hashlib\n",
    "list1=[]          \n",
    "for i in files_list:\n",
    "    file_obj=open(path_p+i,'r')\n",
    "    content=file_obj.read()\n",
    "    file_obj.close()\n",
    "    encode_content=content.encode()\n",
    "    list1.append(hashlib.sha256(encode_content).hexdigest())"
   ]
  },
  {
   "cell_type": "code",
   "execution_count": null,
   "id": "1dce7b5f",
   "metadata": {},
   "outputs": [],
   "source": [
    "new_dic =dict(zip(files_list,list1))\n",
    "new_dic"
   ]
  },
  {
   "cell_type": "code",
   "execution_count": null,
   "id": "34c3d2f5",
   "metadata": {},
   "outputs": [],
   "source": [
    "for i in new_dic:\n",
    "    file_path=i\n",
    "    abc_path = os.path.join(path_p,file_path)\n",
    "    print(abc_path)"
   ]
  },
  {
   "cell_type": "code",
   "execution_count": null,
   "id": "c123b0fb",
   "metadata": {},
   "outputs": [],
   "source": [
    "for i in new_dic:\n",
    "    file_path=i\n",
    "    abc_path = os.path.join(path_p,file_path)\n",
    "    os.remove(abc_path)\n",
    "os.listdir(path_p)"
   ]
  },
  {
   "cell_type": "markdown",
   "id": "afdc12be",
   "metadata": {},
   "source": [
    "#### 2.Generate random Password with exact length = 6, with minimum 1 uppercase, 2 lowercase, 2 digits, and remaining special characters.Using these packages [random, strings]\n"
   ]
  },
  {
   "cell_type": "code",
   "execution_count": 7,
   "id": "9b303c9a",
   "metadata": {},
   "outputs": [
    {
     "data": {
      "text/plain": [
       "'>Fpe65'"
      ]
     },
     "execution_count": 7,
     "metadata": {},
     "output_type": "execute_result"
    }
   ],
   "source": [
    "import random\n",
    "import string\n",
    "\n",
    "def gp():\n",
    "\n",
    "    ucase = string.ascii_uppercase\n",
    "    lcase = string.ascii_lowercase\n",
    "    digits = string.digits\n",
    "    special = string.punctuation\n",
    "    \n",
    "    \n",
    "    uchars = random.sample(ucase, 1)   # This function takes the list and number of char to get\n",
    "    lchars = random.sample(lcase, 2)\n",
    "    dchars = random.sample(digits, 2)\n",
    "    schars = random.sample(special, 1)\n",
    "\n",
    "    password_chars = uchars + lchars + dchars +schars\n",
    "    random.shuffle(password_chars)\n",
    "    # Convert the characters to a string and return the password\n",
    "    password = ''.join(password_chars)\n",
    "    return password\n",
    "gp()"
   ]
  },
  {
   "cell_type": "markdown",
   "id": "720f4903",
   "metadata": {},
   "source": [
    "#### 3.Create 2D array and update the same 2D array provided that every prime number position should be replaced by cube of the positioned number."
   ]
  },
  {
   "cell_type": "code",
   "execution_count": 8,
   "id": "00bd29ce",
   "metadata": {},
   "outputs": [
    {
     "name": "stdout",
     "output_type": "stream",
     "text": [
      "[[    1     8    27     4   125]\n",
      " [    6   343     8     9    10]\n",
      " [ 1331    12  2197    14    15]\n",
      " [   16  4913    18  6859    20]\n",
      " [   21    22 12167    24    25]]\n"
     ]
    }
   ],
   "source": [
    "import sympy\n",
    "import numpy as np\n",
    "arr=np.zeros((5,5),dtype='int')\n",
    "\n",
    "c=1\n",
    "for i in range (5):\n",
    "    for j in range (5):\n",
    "        if sympy.isprime(c):\n",
    "            arr[i][j]=c**3\n",
    "        else:\n",
    "            arr[i][j]=c\n",
    "        c+=1\n",
    "print(arr)"
   ]
  },
  {
   "cell_type": "markdown",
   "id": "3c5bf1b5",
   "metadata": {},
   "source": [
    "#### 4.Python program to get the sum of every cubed value and its previous integer. "
   ]
  },
  {
   "cell_type": "code",
   "execution_count": 10,
   "id": "4f2ab382",
   "metadata": {},
   "outputs": [
    {
     "name": "stdout",
     "output_type": "stream",
     "text": [
      "[[    1     9    36     4   129]\n",
      " [    6   349     8     9    10]\n",
      " [ 1341    12  2209    14    15]\n",
      " [   16  4929    18  6877    20]\n",
      " [   21    22 12189    24    25]]\n"
     ]
    }
   ],
   "source": [
    "arr=np.arange(1,26)\n",
    "for i in range(len(arr)):\n",
    "    if sympy.isprime(i+1):\n",
    "        arr[i]=(i+1)**3+arr[i-1];\n",
    "ans=arr.reshape(5,5)\n",
    "        \n",
    "print(ans)      \n"
   ]
  },
  {
   "cell_type": "markdown",
   "id": "b653d94a",
   "metadata": {},
   "source": [
    "#### 5.Given two arrays, find their intersection. Examples:\n",
    "\n",
    "#### Input:  arr1[] = [1, 3, 4, 5, 7]          arr2[] = [2, 3, 5, 6]\n"
   ]
  },
  {
   "cell_type": "code",
   "execution_count": 12,
   "id": "05d364b1",
   "metadata": {},
   "outputs": [
    {
     "data": {
      "text/plain": [
       "frozenset({3, 5})"
      ]
     },
     "execution_count": 12,
     "metadata": {},
     "output_type": "execute_result"
    }
   ],
   "source": [
    "#Using frozenset\n",
    "arr1 = [1, 3, 4, 5, 7]\n",
    "arr2 = [2, 3, 5, 6]\n",
    "A=frozenset(arr1)\n",
    "B=frozenset(arr2)\n",
    "A.intersection(B)\n"
   ]
  },
  {
   "cell_type": "code",
   "execution_count": 16,
   "id": "a3d519a2",
   "metadata": {},
   "outputs": [
    {
     "name": "stdout",
     "output_type": "stream",
     "text": [
      "[3 5]\n"
     ]
    }
   ],
   "source": [
    "#Using numpy\n",
    "arr2=np.array([1,3,4,5,7])\n",
    "arr3=np.array([2,3,5,6])\n",
    "intersection1=np.intersect1d(arr2,arr3)\n",
    "print(intersection1)"
   ]
  },
  {
   "cell_type": "markdown",
   "id": "7d8ab2b4",
   "metadata": {},
   "source": [
    "#### 6.Create a 7 x 7  2D array having only multiples of 7. And return the last element of the same."
   ]
  },
  {
   "cell_type": "code",
   "execution_count": 18,
   "id": "582987d4",
   "metadata": {},
   "outputs": [
    {
     "name": "stdout",
     "output_type": "stream",
     "text": [
      "[[  7  14  21  28  35  42  49]\n",
      " [ 56  63  70  77  84  91  98]\n",
      " [105 112 119 126 133 140 147]\n",
      " [154 161 168 175 182 189 196]\n",
      " [203 210 217 224 231 238 245]\n",
      " [252 259 266 273 280 287 294]\n",
      " [301 308 315 322 329 336 343]]\n",
      "Last element: 343\n"
     ]
    }
   ],
   "source": [
    "import numpy as np\n",
    "arr = np.arange(1, 50) * 7\n",
    "arr = arr.reshape((7, 7))\n",
    "\n",
    "lastele = arr[-1][-1]\n",
    "\n",
    "print(arr)\n",
    "print(\"Last element:\", lastele)"
   ]
  },
  {
   "cell_type": "markdown",
   "id": "4c53217e",
   "metadata": {},
   "source": [
    "#### 7.\tChecker Board Patten using Numpy:\n",
    " #### [  1   0   1   0   1   0   1\n",
    " ####    0   1   0   1   0   1   0\n",
    "  ####  1   0   1   0   1   0   1\n",
    "  ####  0   1   0   1   0   1   0\n",
    "  ####  1   0   1   0   1   0   1 ]\n"
   ]
  },
  {
   "cell_type": "code",
   "execution_count": 27,
   "id": "43b71f0a",
   "metadata": {},
   "outputs": [
    {
     "name": "stdout",
     "output_type": "stream",
     "text": [
      "[[0 1 0 1 0 1 0 1]\n",
      " [1 0 1 0 1 0 1 0]\n",
      " [0 1 0 1 0 1 0 1]\n",
      " [1 0 1 0 1 0 1 0]\n",
      " [0 1 0 1 0 1 0 1]\n",
      " [1 0 1 0 1 0 1 0]\n",
      " [0 1 0 1 0 1 0 1]\n",
      " [1 0 1 0 1 0 1 0]]\n"
     ]
    }
   ],
   "source": [
    "import numpy as np\n",
    "\n",
    "x = np.zeros((8,8),dtype=int)\n",
    "x[1::2,::2] = 1\n",
    "x[::2,1::2] = 1\n",
    "print(x)"
   ]
  },
  {
   "cell_type": "markdown",
   "id": "eddeb5ce",
   "metadata": {},
   "source": [
    "#### 8.Create a given Matrix:\n",
    "* [  A,     B,     C,       D\n",
    "*  E,      F,     G,       H\n",
    "*  I,      a,      K,       L\n",
    "*  M,    N,     o,       P\n",
    "*  Q,     R,      S,       T\n",
    "*  U,     0,     W,      O ]\n",
    "\n",
    "#### Replace all the vowels by np.nan\n",
    "#### A, E, I, O U  -- >  np.nan\n",
    "#### Return the count of the missing values\n"
   ]
  },
  {
   "cell_type": "code",
   "execution_count": 4,
   "id": "94a61b59",
   "metadata": {},
   "outputs": [
    {
     "name": "stdout",
     "output_type": "stream",
     "text": [
      "['a' 'b' 'c' 'd' 'e' 'f' 'g' 'h' 'i' 'j' 'k' 'l' 'm' 'n' 'o' 'p']\n"
     ]
    }
   ],
   "source": [
    "import numpy as np\n",
    "arr=np.array(list('abcdefghijklmnop'))\n",
    "print(arr)"
   ]
  },
  {
   "cell_type": "code",
   "execution_count": 6,
   "id": "0eb299b4",
   "metadata": {},
   "outputs": [
    {
     "name": "stdout",
     "output_type": "stream",
     "text": [
      "[['a' 'b' 'c' 'd']\n",
      " ['e' 'f' 'g' 'h']\n",
      " ['i' 'j' 'k' 'l']\n",
      " ['m' 'n' 'o' 'p']]\n"
     ]
    }
   ],
   "source": [
    "arr1=arr.reshape(4,4)\n",
    "print(arr1)"
   ]
  },
  {
   "cell_type": "code",
   "execution_count": 7,
   "id": "37c41b05",
   "metadata": {},
   "outputs": [
    {
     "name": "stdout",
     "output_type": "stream",
     "text": [
      "[['n' 'b' 'c' 'd']\n",
      " ['n' 'f' 'g' 'h']\n",
      " ['n' 'j' 'k' 'l']\n",
      " ['m' 'n' 'n' 'p']]\n",
      "Count of missing values is  4\n"
     ]
    }
   ],
   "source": [
    "c=0\n",
    "list1=['a', 'e', 'i', 'o', 'u']\n",
    "for i in range (4):\n",
    "    for j in range (4):\n",
    "        if arr1[i][j] in list1:\n",
    "            c+=1\n",
    "            arr1[i][j]= np.nan\n",
    "            \n",
    "            \n",
    "print(arr1)\n",
    "print(\"Count of missing values is \",c)"
   ]
  },
  {
   "cell_type": "code",
   "execution_count": null,
   "id": "0204da42",
   "metadata": {},
   "outputs": [],
   "source": []
  }
 ],
 "metadata": {
  "kernelspec": {
   "display_name": "Python 3 (ipykernel)",
   "language": "python",
   "name": "python3"
  },
  "language_info": {
   "codemirror_mode": {
    "name": "ipython",
    "version": 3
   },
   "file_extension": ".py",
   "mimetype": "text/x-python",
   "name": "python",
   "nbconvert_exporter": "python",
   "pygments_lexer": "ipython3",
   "version": "3.9.13"
  }
 },
 "nbformat": 4,
 "nbformat_minor": 5
}
